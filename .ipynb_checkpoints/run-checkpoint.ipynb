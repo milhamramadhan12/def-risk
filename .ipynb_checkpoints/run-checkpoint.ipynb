{
 "cells": [
  {
   "cell_type": "markdown",
   "id": "f1218ae3-499e-4404-a8e5-839c95711213",
   "metadata": {},
   "source": [
    "# HOME CREDIT INDONESIA SCORECARD MODEL\n",
    "## Problem Statement:\n",
    "\n",
    "Home Credit saat ini sedang menggunakan berbagai macam metode statistik dan Machine Learning untuk membuat prediksi skor kredit. Sekarang, kami meminta anda untuk membuka potensi maksimal dari data kami. **Dengan melakukannya, kita dapat memastikan pelanggan yang mampu melakukan pelunasan tidak ditolak ketika melakukan pengajuan pinjaman, dan pinjaman datap diberikan dengan principal, maturity, dan repayment calendar yang akan memotivsi pelanggan untuk sukses.** Evaluasi akan dilakukan dengan mengecek seberapa dalam pemahaman analisa yang anda kerjakan. Sebagai catatan, anda perlu menggunakan **setidaknya 2 model Machine Learning dimana salah satunya adalah Logistic Regression**. Setelah itu, buatlah slide presentasi yang mengandung analisa hasil pemodelan secara end-to-end beserta rekomendasi bisnisnya (maksimal 10 halaman)\n",
    "\n",
    "Point:\n",
    "1. Predict probability variable TARGET\n",
    "2. Pakai 2 model, salah satunya Logistic Regression\n",
    "3. Cari top 2 insight (relate satu atau lebih variable dengan target atau yang lainnya) dan solusi\n",
    "4. "
   ]
  },
  {
   "cell_type": "markdown",
   "id": "d8d79dd7-b7d8-4a2c-abdb-6cb7886e6298",
   "metadata": {},
   "source": [
    "## Import Library dan Load Data\n",
    "Pada tahap ini akan diimpport beberapa library Python yang diperlukan serta melakukan pembacaan data."
   ]
  },
  {
   "cell_type": "code",
   "execution_count": 80,
   "id": "b550a755-7a11-4514-b4c5-265ca638fc4f",
   "metadata": {},
   "outputs": [],
   "source": [
    "%config IPCompleter.greedy=True"
   ]
  },
  {
   "cell_type": "code",
   "execution_count": 1,
   "id": "44c667a0-1353-4f04-b9a4-83ff420969e5",
   "metadata": {},
   "outputs": [],
   "source": [
    "import os\n",
    "import sys\n",
    "\n",
    "import numpy as np\n",
    "import pandas as pd\n",
    "\n",
    "import matplotlib.pylab as plt\n",
    "from matplotlib_venn import venn2\n",
    "import seaborn as sns\n",
    "\n",
    "from sklearn import metrics\n",
    "from sklearn import model_selection\n",
    "from sklearn import preprocessing\n",
    "from sklearn import linear_model\n",
    "from sklearn import feature_selection\n",
    "\n",
    "# Suppress warnings \n",
    "import warnings\n",
    "warnings.filterwarnings('ignore')"
   ]
  },
  {
   "cell_type": "markdown",
   "id": "8b8d4d38-bdb0-41f0-a13b-1302af665a10",
   "metadata": {},
   "source": [
    "Terdapat 9 data yang diberikan dengan data utama berupa data training dan data testing. Sementara ini, analisis kali ini hanya akan menggunakan kedua data tersebut untuk membentuk model baseline yang dapat dikembangkan lebih jauh selanjutnya. Berikut adalah ukuran data training dan data testing."
   ]
  },
  {
   "cell_type": "code",
   "execution_count": 2,
   "id": "981ebff8-a392-4831-9c06-18aa8424cd7d",
   "metadata": {},
   "outputs": [
    {
     "name": "stdout",
     "output_type": "stream",
     "text": [
      "CPU times: total: 8.83 s\n",
      "Wall time: 11.2 s\n"
     ]
    },
    {
     "data": {
      "text/plain": [
       "((307511, 122), (48744, 121))"
      ]
     },
     "execution_count": 2,
     "metadata": {},
     "output_type": "execute_result"
    }
   ],
   "source": [
    "%%time\n",
    "train_df = pd.read_csv('application_train.csv')\n",
    "test_df = pd.read_csv('application_test.csv')\n",
    "\n",
    "train_df.shape, test_df.shape"
   ]
  },
  {
   "cell_type": "markdown",
   "id": "8eb2089b-cff7-4f13-945c-6fc3638fc9ae",
   "metadata": {},
   "source": [
    "Data training berjumlah 307511 dengan jumlah features sebanyak 122 sementara data test berjumlah 48733 dengan 121 fitur (tidak ada TARGET pada data test).\n"
   ]
  },
  {
   "cell_type": "markdown",
   "id": "f2106806-6efb-43da-9f27-bd4d69213abc",
   "metadata": {},
   "source": [
    "## Exploratory Data Analysis"
   ]
  },
  {
   "cell_type": "markdown",
   "id": "e18df22f-ed31-409e-b0ce-3aa51cbc9db0",
   "metadata": {},
   "source": [
    "### Target Distribution:\n",
    "Hal pertama yang perlu dilihat adalah distribusi dari kolom target dimana:\n",
    "* TARGET 0 -> Pinjaman dibayar tepat waktu\n",
    "* TARGET 1 -> Menandakan bahwa client mengalami kesulitan untuk membayar"
   ]
  },
  {
   "cell_type": "code",
   "execution_count": 3,
   "id": "34a9c6bc-c341-4ec0-aad6-aacd9f17a6c3",
   "metadata": {},
   "outputs": [
    {
     "data": {
      "image/png": "[encoded data removed]",
      "text/plain": [
       "<Figure size 720x360 with 1 Axes>"
      ]
     },
     "metadata": {
      "needs_background": "light"
     },
     "output_type": "display_data"
    }
   ],
   "source": [
    "fig, ax = plt.subplots(figsize=(10,5))\n",
    "sns.countplot(x=train_df['TARGET'])\n",
    "plt.show()"
   ]
  },
  {
   "cell_type": "markdown",
   "id": "58a22b4a-c8d5-48ae-a945-347a713af4a7",
   "metadata": {},
   "source": [
    "Data tidak seimbang, lebih banyak TARGET 0 dibanding 1"
   ]
  },
  {
   "cell_type": "markdown",
   "id": "26852b1f-a1a9-4dfe-8149-c53f4566be70",
   "metadata": {},
   "source": [
    "Selanjutnya, kita lihat apakah data training dan test yang diberikan memiliki observasi yang overlap (terdapat data yang berada di kedua dataset sekaligus) atau tidak"
   ]
  },
  {
   "cell_type": "code",
   "execution_count": 4,
   "id": "4f907d0d-8ebc-458c-a6ac-2b8792b482c9",
   "metadata": {},
   "outputs": [
    {
     "data": {
      "image/png": "[encoded data removed]",
      "text/plain": [
       "<Figure size 720x360 with 1 Axes>"
      ]
     },
     "metadata": {},
     "output_type": "display_data"
    }
   ],
   "source": [
    "fig, ax = plt.subplots(figsize=(10,5))\n",
    "set1 = set(train_df.SK_ID_CURR.unique())\n",
    "set2 = set(test_df.SK_ID_CURR.unique())\n",
    "\n",
    "venn2([set1, set2], ('train', 'test'))\n",
    "plt.show()"
   ]
  },
  {
   "cell_type": "markdown",
   "id": "d14bdfb8-ec1c-4127-87bf-b78eb348500a",
   "metadata": {},
   "source": [
    "Terlihat pada gambar di atas bahwa tidak ada data yang overlap"
   ]
  },
  {
   "cell_type": "markdown",
   "id": "c5aa8370-714a-4fce-b90f-9a59dec0b263",
   "metadata": {},
   "source": [
    "## Menangani Missing Values"
   ]
  },
  {
   "cell_type": "markdown",
   "id": "db225c67-8b81-4daa-a274-d78bb2512f87",
   "metadata": {},
   "source": [
    "Selanjutnya adalah terkait penanganan missing values. Berikut tampilan beberapa data pertama dari dataset training dan dataset testing."
   ]
  },
  {
   "cell_type": "code",
   "execution_count": 5,
   "id": "a870c74b-647d-439a-a0a5-e89804d98e03",
   "metadata": {},
   "outputs": [
    {
     "name": "stdout",
     "output_type": "stream",
     "text": [
      "Training data shape:  (307511, 122)\n"
     ]
    },
    {
     "data": {
      "text/html": [
       "<div>\n",
       "<style scoped>\n",
       "    .dataframe tbody tr th:only-of-type {\n",
       "        vertical-align: middle;\n",
       "    }\n",
       "\n",
       "    .dataframe tbody tr th {\n",
       "        vertical-align: top;\n",
       "    }\n",
       "\n",
       "    .dataframe thead th {\n",
       "        text-align: right;\n",
       "    }\n",
       "</style>\n",
       "<table border=\"1\" class=\"dataframe\">\n",
       "  <thead>\n",
       "    <tr style=\"text-align: right;\">\n",
       "      <th></th>\n",
       "      <th>SK_ID_CURR</th>\n",
       "      <th>TARGET</th>\n",
       "      <th>NAME_CONTRACT_TYPE</th>\n",
       "      <th>CODE_GENDER</th>\n",
       "      <th>FLAG_OWN_CAR</th>\n",
       "      <th>FLAG_OWN_REALTY</th>\n",
       "      <th>CNT_CHILDREN</th>\n",
       "      <th>AMT_INCOME_TOTAL</th>\n",
       "      <th>AMT_CREDIT</th>\n",
       "      <th>AMT_ANNUITY</th>\n",
       "      <th>...</th>\n",
       "      <th>FLAG_DOCUMENT_18</th>\n",
       "      <th>FLAG_DOCUMENT_19</th>\n",
       "      <th>FLAG_DOCUMENT_20</th>\n",
       "      <th>FLAG_DOCUMENT_21</th>\n",
       "      <th>AMT_REQ_CREDIT_BUREAU_HOUR</th>\n",
       "      <th>AMT_REQ_CREDIT_BUREAU_DAY</th>\n",
       "      <th>AMT_REQ_CREDIT_BUREAU_WEEK</th>\n",
       "      <th>AMT_REQ_CREDIT_BUREAU_MON</th>\n",
       "      <th>AMT_REQ_CREDIT_BUREAU_QRT</th>\n",
       "      <th>AMT_REQ_CREDIT_BUREAU_YEAR</th>\n",
       "    </tr>\n",
       "  </thead>\n",
       "  <tbody>\n",
       "    <tr>\n",
       "      <th>0</th>\n",
       "      <td>100002</td>\n",
       "      <td>1</td>\n",
       "      <td>Cash loans</td>\n",
       "      <td>M</td>\n",
       "      <td>N</td>\n",
       "      <td>Y</td>\n",
       "      <td>0</td>\n",
       "      <td>202500.0</td>\n",
       "      <td>406597.5</td>\n",
       "      <td>24700.5</td>\n",
       "      <td>...</td>\n",
       "      <td>0</td>\n",
       "      <td>0</td>\n",
       "      <td>0</td>\n",
       "      <td>0</td>\n",
       "      <td>0.0</td>\n",
       "      <td>0.0</td>\n",
       "      <td>0.0</td>\n",
       "      <td>0.0</td>\n",
       "      <td>0.0</td>\n",
       "      <td>1.0</td>\n",
       "    </tr>\n",
       "    <tr>\n",
       "      <th>1</th>\n",
       "      <td>100003</td>\n",
       "      <td>0</td>\n",
       "      <td>Cash loans</td>\n",
       "      <td>F</td>\n",
       "      <td>N</td>\n",
       "      <td>N</td>\n",
       "      <td>0</td>\n",
       "      <td>270000.0</td>\n",
       "      <td>1293502.5</td>\n",
       "      <td>35698.5</td>\n",
       "      <td>...</td>\n",
       "      <td>0</td>\n",
       "      <td>0</td>\n",
       "      <td>0</td>\n",
       "      <td>0</td>\n",
       "      <td>0.0</td>\n",
       "      <td>0.0</td>\n",
       "      <td>0.0</td>\n",
       "      <td>0.0</td>\n",
       "      <td>0.0</td>\n",
       "      <td>0.0</td>\n",
       "    </tr>\n",
       "    <tr>\n",
       "      <th>2</th>\n",
       "      <td>100004</td>\n",
       "      <td>0</td>\n",
       "      <td>Revolving loans</td>\n",
       "      <td>M</td>\n",
       "      <td>Y</td>\n",
       "      <td>Y</td>\n",
       "      <td>0</td>\n",
       "      <td>67500.0</td>\n",
       "      <td>135000.0</td>\n",
       "      <td>6750.0</td>\n",
       "      <td>...</td>\n",
       "      <td>0</td>\n",
       "      <td>0</td>\n",
       "      <td>0</td>\n",
       "      <td>0</td>\n",
       "      <td>0.0</td>\n",
       "      <td>0.0</td>\n",
       "      <td>0.0</td>\n",
       "      <td>0.0</td>\n",
       "      <td>0.0</td>\n",
       "      <td>0.0</td>\n",
       "    </tr>\n",
       "    <tr>\n",
       "      <th>3</th>\n",
       "      <td>100006</td>\n",
       "      <td>0</td>\n",
       "      <td>Cash loans</td>\n",
       "      <td>F</td>\n",
       "      <td>N</td>\n",
       "      <td>Y</td>\n",
       "      <td>0</td>\n",
       "      <td>135000.0</td>\n",
       "      <td>312682.5</td>\n",
       "      <td>29686.5</td>\n",
       "      <td>...</td>\n",
       "      <td>0</td>\n",
       "      <td>0</td>\n",
       "      <td>0</td>\n",
       "      <td>0</td>\n",
       "      <td>NaN</td>\n",
       "      <td>NaN</td>\n",
       "      <td>NaN</td>\n",
       "      <td>NaN</td>\n",
       "      <td>NaN</td>\n",
       "      <td>NaN</td>\n",
       "    </tr>\n",
       "    <tr>\n",
       "      <th>4</th>\n",
       "      <td>100007</td>\n",
       "      <td>0</td>\n",
       "      <td>Cash loans</td>\n",
       "      <td>M</td>\n",
       "      <td>N</td>\n",
       "      <td>Y</td>\n",
       "      <td>0</td>\n",
       "      <td>121500.0</td>\n",
       "      <td>513000.0</td>\n",
       "      <td>21865.5</td>\n",
       "      <td>...</td>\n",
       "      <td>0</td>\n",
       "      <td>0</td>\n",
       "      <td>0</td>\n",
       "      <td>0</td>\n",
       "      <td>0.0</td>\n",
       "      <td>0.0</td>\n",
       "      <td>0.0</td>\n",
       "      <td>0.0</td>\n",
       "      <td>0.0</td>\n",
       "      <td>0.0</td>\n",
       "    </tr>\n",
       "  </tbody>\n",
       "</table>\n",
       "<p>5 rows × 122 columns</p>\n",
       "</div>"
      ],
      "text/plain": [
       "   SK_ID_CURR  TARGET NAME_CONTRACT_TYPE CODE_GENDER FLAG_OWN_CAR  \\\n",
       "0      100002       1         Cash loans           M            N   \n",
       "1      100003       0         Cash loans           F            N   \n",
       "2      100004       0    Revolving loans           M            Y   \n",
       "3      100006       0         Cash loans           F            N   \n",
       "4      100007       0         Cash loans           M            N   \n",
       "\n",
       "  FLAG_OWN_REALTY  CNT_CHILDREN  AMT_INCOME_TOTAL  AMT_CREDIT  AMT_ANNUITY  \\\n",
       "0               Y             0          202500.0    406597.5      24700.5   \n",
       "1               N             0          270000.0   1293502.5      35698.5   \n",
       "2               Y             0           67500.0    135000.0       6750.0   \n",
       "3               Y             0          135000.0    312682.5      29686.5   \n",
       "4               Y             0          121500.0    513000.0      21865.5   \n",
       "\n",
       "   ...  FLAG_DOCUMENT_18 FLAG_DOCUMENT_19 FLAG_DOCUMENT_20 FLAG_DOCUMENT_21  \\\n",
       "0  ...                 0                0                0                0   \n",
       "1  ...                 0                0                0                0   \n",
       "2  ...                 0                0                0                0   \n",
       "3  ...                 0                0                0                0   \n",
       "4  ...                 0                0                0                0   \n",
       "\n",
       "  AMT_REQ_CREDIT_BUREAU_HOUR AMT_REQ_CREDIT_BUREAU_DAY  \\\n",
       "0                        0.0                       0.0   \n",
       "1                        0.0                       0.0   \n",
       "2                        0.0                       0.0   \n",
       "3                        NaN                       NaN   \n",
       "4                        0.0                       0.0   \n",
       "\n",
       "   AMT_REQ_CREDIT_BUREAU_WEEK  AMT_REQ_CREDIT_BUREAU_MON  \\\n",
       "0                         0.0                        0.0   \n",
       "1                         0.0                        0.0   \n",
       "2                         0.0                        0.0   \n",
       "3                         NaN                        NaN   \n",
       "4                         0.0                        0.0   \n",
       "\n",
       "   AMT_REQ_CREDIT_BUREAU_QRT  AMT_REQ_CREDIT_BUREAU_YEAR  \n",
       "0                        0.0                         1.0  \n",
       "1                        0.0                         0.0  \n",
       "2                        0.0                         0.0  \n",
       "3                        NaN                         NaN  \n",
       "4                        0.0                         0.0  \n",
       "\n",
       "[5 rows x 122 columns]"
      ]
     },
     "execution_count": 5,
     "metadata": {},
     "output_type": "execute_result"
    }
   ],
   "source": [
    "# Training dataset\n",
    "print('Training data shape: ', train_df.shape)\n",
    "train_df.head()"
   ]
  },
  {
   "cell_type": "code",
   "execution_count": 6,
   "id": "94486411-a117-4f48-a389-89c058bc3f77",
   "metadata": {},
   "outputs": [
    {
     "name": "stdout",
     "output_type": "stream",
     "text": [
      "Testing data shape:  (48744, 121)\n"
     ]
    },
    {
     "data": {
      "text/html": [
       "<div>\n",
       "<style scoped>\n",
       "    .dataframe tbody tr th:only-of-type {\n",
       "        vertical-align: middle;\n",
       "    }\n",
       "\n",
       "    .dataframe tbody tr th {\n",
       "        vertical-align: top;\n",
       "    }\n",
       "\n",
       "    .dataframe thead th {\n",
       "        text-align: right;\n",
       "    }\n",
       "</style>\n",
       "<table border=\"1\" class=\"dataframe\">\n",
       "  <thead>\n",
       "    <tr style=\"text-align: right;\">\n",
       "      <th></th>\n",
       "      <th>SK_ID_CURR</th>\n",
       "      <th>NAME_CONTRACT_TYPE</th>\n",
       "      <th>CODE_GENDER</th>\n",
       "      <th>FLAG_OWN_CAR</th>\n",
       "      <th>FLAG_OWN_REALTY</th>\n",
       "      <th>CNT_CHILDREN</th>\n",
       "      <th>AMT_INCOME_TOTAL</th>\n",
       "      <th>AMT_CREDIT</th>\n",
       "      <th>AMT_ANNUITY</th>\n",
       "      <th>AMT_GOODS_PRICE</th>\n",
       "      <th>...</th>\n",
       "      <th>FLAG_DOCUMENT_18</th>\n",
       "      <th>FLAG_DOCUMENT_19</th>\n",
       "      <th>FLAG_DOCUMENT_20</th>\n",
       "      <th>FLAG_DOCUMENT_21</th>\n",
       "      <th>AMT_REQ_CREDIT_BUREAU_HOUR</th>\n",
       "      <th>AMT_REQ_CREDIT_BUREAU_DAY</th>\n",
       "      <th>AMT_REQ_CREDIT_BUREAU_WEEK</th>\n",
       "      <th>AMT_REQ_CREDIT_BUREAU_MON</th>\n",
       "      <th>AMT_REQ_CREDIT_BUREAU_QRT</th>\n",
       "      <th>AMT_REQ_CREDIT_BUREAU_YEAR</th>\n",
       "    </tr>\n",
       "  </thead>\n",
       "  <tbody>\n",
       "    <tr>\n",
       "      <th>0</th>\n",
       "      <td>100001</td>\n",
       "      <td>Cash loans</td>\n",
       "      <td>F</td>\n",
       "      <td>N</td>\n",
       "      <td>Y</td>\n",
       "      <td>0</td>\n",
       "      <td>135000.0</td>\n",
       "      <td>568800.0</td>\n",
       "      <td>20560.5</td>\n",
       "      <td>450000.0</td>\n",
       "      <td>...</td>\n",
       "      <td>0</td>\n",
       "      <td>0</td>\n",
       "      <td>0</td>\n",
       "      <td>0</td>\n",
       "      <td>0.0</td>\n",
       "      <td>0.0</td>\n",
       "      <td>0.0</td>\n",
       "      <td>0.0</td>\n",
       "      <td>0.0</td>\n",
       "      <td>0.0</td>\n",
       "    </tr>\n",
       "    <tr>\n",
       "      <th>1</th>\n",
       "      <td>100005</td>\n",
       "      <td>Cash loans</td>\n",
       "      <td>M</td>\n",
       "      <td>N</td>\n",
       "      <td>Y</td>\n",
       "      <td>0</td>\n",
       "      <td>99000.0</td>\n",
       "      <td>222768.0</td>\n",
       "      <td>17370.0</td>\n",
       "      <td>180000.0</td>\n",
       "      <td>...</td>\n",
       "      <td>0</td>\n",
       "      <td>0</td>\n",
       "      <td>0</td>\n",
       "      <td>0</td>\n",
       "      <td>0.0</td>\n",
       "      <td>0.0</td>\n",
       "      <td>0.0</td>\n",
       "      <td>0.0</td>\n",
       "      <td>0.0</td>\n",
       "      <td>3.0</td>\n",
       "    </tr>\n",
       "    <tr>\n",
       "      <th>2</th>\n",
       "      <td>100013</td>\n",
       "      <td>Cash loans</td>\n",
       "      <td>M</td>\n",
       "      <td>Y</td>\n",
       "      <td>Y</td>\n",
       "      <td>0</td>\n",
       "      <td>202500.0</td>\n",
       "      <td>663264.0</td>\n",
       "      <td>69777.0</td>\n",
       "      <td>630000.0</td>\n",
       "      <td>...</td>\n",
       "      <td>0</td>\n",
       "      <td>0</td>\n",
       "      <td>0</td>\n",
       "      <td>0</td>\n",
       "      <td>0.0</td>\n",
       "      <td>0.0</td>\n",
       "      <td>0.0</td>\n",
       "      <td>0.0</td>\n",
       "      <td>1.0</td>\n",
       "      <td>4.0</td>\n",
       "    </tr>\n",
       "    <tr>\n",
       "      <th>3</th>\n",
       "      <td>100028</td>\n",
       "      <td>Cash loans</td>\n",
       "      <td>F</td>\n",
       "      <td>N</td>\n",
       "      <td>Y</td>\n",
       "      <td>2</td>\n",
       "      <td>315000.0</td>\n",
       "      <td>1575000.0</td>\n",
       "      <td>49018.5</td>\n",
       "      <td>1575000.0</td>\n",
       "      <td>...</td>\n",
       "      <td>0</td>\n",
       "      <td>0</td>\n",
       "      <td>0</td>\n",
       "      <td>0</td>\n",
       "      <td>0.0</td>\n",
       "      <td>0.0</td>\n",
       "      <td>0.0</td>\n",
       "      <td>0.0</td>\n",
       "      <td>0.0</td>\n",
       "      <td>3.0</td>\n",
       "    </tr>\n",
       "    <tr>\n",
       "      <th>4</th>\n",
       "      <td>100038</td>\n",
       "      <td>Cash loans</td>\n",
       "      <td>M</td>\n",
       "      <td>Y</td>\n",
       "      <td>N</td>\n",
       "      <td>1</td>\n",
       "      <td>180000.0</td>\n",
       "      <td>625500.0</td>\n",
       "      <td>32067.0</td>\n",
       "      <td>625500.0</td>\n",
       "      <td>...</td>\n",
       "      <td>0</td>\n",
       "      <td>0</td>\n",
       "      <td>0</td>\n",
       "      <td>0</td>\n",
       "      <td>NaN</td>\n",
       "      <td>NaN</td>\n",
       "      <td>NaN</td>\n",
       "      <td>NaN</td>\n",
       "      <td>NaN</td>\n",
       "      <td>NaN</td>\n",
       "    </tr>\n",
       "  </tbody>\n",
       "</table>\n",
       "<p>5 rows × 121 columns</p>\n",
       "</div>"
      ],
      "text/plain": [
       "   SK_ID_CURR NAME_CONTRACT_TYPE CODE_GENDER FLAG_OWN_CAR FLAG_OWN_REALTY  \\\n",
       "0      100001         Cash loans           F            N               Y   \n",
       "1      100005         Cash loans           M            N               Y   \n",
       "2      100013         Cash loans           M            Y               Y   \n",
       "3      100028         Cash loans           F            N               Y   \n",
       "4      100038         Cash loans           M            Y               N   \n",
       "\n",
       "   CNT_CHILDREN  AMT_INCOME_TOTAL  AMT_CREDIT  AMT_ANNUITY  AMT_GOODS_PRICE  \\\n",
       "0             0          135000.0    568800.0      20560.5         450000.0   \n",
       "1             0           99000.0    222768.0      17370.0         180000.0   \n",
       "2             0          202500.0    663264.0      69777.0         630000.0   \n",
       "3             2          315000.0   1575000.0      49018.5        1575000.0   \n",
       "4             1          180000.0    625500.0      32067.0         625500.0   \n",
       "\n",
       "   ... FLAG_DOCUMENT_18 FLAG_DOCUMENT_19 FLAG_DOCUMENT_20 FLAG_DOCUMENT_21  \\\n",
       "0  ...                0                0                0                0   \n",
       "1  ...                0                0                0                0   \n",
       "2  ...                0                0                0                0   \n",
       "3  ...                0                0                0                0   \n",
       "4  ...                0                0                0                0   \n",
       "\n",
       "  AMT_REQ_CREDIT_BUREAU_HOUR  AMT_REQ_CREDIT_BUREAU_DAY  \\\n",
       "0                        0.0                        0.0   \n",
       "1                        0.0                        0.0   \n",
       "2                        0.0                        0.0   \n",
       "3                        0.0                        0.0   \n",
       "4                        NaN                        NaN   \n",
       "\n",
       "   AMT_REQ_CREDIT_BUREAU_WEEK  AMT_REQ_CREDIT_BUREAU_MON  \\\n",
       "0                         0.0                        0.0   \n",
       "1                         0.0                        0.0   \n",
       "2                         0.0                        0.0   \n",
       "3                         0.0                        0.0   \n",
       "4                         NaN                        NaN   \n",
       "\n",
       "   AMT_REQ_CREDIT_BUREAU_QRT  AMT_REQ_CREDIT_BUREAU_YEAR  \n",
       "0                        0.0                         0.0  \n",
       "1                        0.0                         3.0  \n",
       "2                        1.0                         4.0  \n",
       "3                        0.0                         3.0  \n",
       "4                        NaN                         NaN  \n",
       "\n",
       "[5 rows x 121 columns]"
      ]
     },
     "execution_count": 6,
     "metadata": {},
     "output_type": "execute_result"
    }
   ],
   "source": [
    "# Testing dataset\n",
    "print('Testing data shape: ', test_df.shape)\n",
    "test_df.head()"
   ]
  },
  {
   "cell_type": "markdown",
   "id": "def31776-12a8-4e77-92a6-fc95dcc34b5d",
   "metadata": {},
   "source": [
    "Terlihat bahwa dari kedua dataset, terdapat beberapa kolom yang memiliki missing values. Selanjutnya akan kita lihat berapa jumlah kolom yang memiliki missing values beserta jumlah dan persentase dari missing values tersebut."
   ]
  },
  {
   "cell_type": "code",
   "execution_count": 7,
   "id": "d11f4316-b3da-4411-9925-2c409188f085",
   "metadata": {},
   "outputs": [],
   "source": [
    "# Function to calculate missing values by column\n",
    "def missing_values_table(df):\n",
    "        # Total missing values\n",
    "        mis_val = df.isnull().sum()\n",
    "        \n",
    "        # Percentage of missing values\n",
    "        mis_val_percent = 100 * df.isnull().sum() / len(df)\n",
    "        \n",
    "        # Make a table with the results\n",
    "        mis_val_table = pd.concat([mis_val, mis_val_percent], axis=1)\n",
    "        \n",
    "        # Rename the columns\n",
    "        mis_val_table_ren_columns = mis_val_table.rename(\n",
    "        columns = {0 : 'Missing Values', 1 : '% of Total'})\n",
    "        \n",
    "        # Sort the table by percentage of missing descending\n",
    "        mis_val_table_ren_columns = mis_val_table_ren_columns[mis_val_table_ren_columns.iloc[:, 1] != 0]\n",
    "        mis_val_table_ren_columns = mis_val_table_ren_columns.sort_values('% of Total', ascending=False).round(1)\n",
    "        \n",
    "        # Print some summary information\n",
    "        print (\"Your selected dataframe has \" + str(df.shape[1]) + \" columns.\\n\"      \n",
    "            \"There are \" + str(mis_val_table_ren_columns.shape[0]) +\n",
    "              \" columns that have missing values.\")\n",
    "        \n",
    "        # Return the dataframe with missing information\n",
    "        return mis_val_table_ren_columns"
   ]
  },
  {
   "cell_type": "code",
   "execution_count": 8,
   "id": "992fcc52-7e41-4956-ad5c-b5a5ed224e19",
   "metadata": {},
   "outputs": [
    {
     "name": "stdout",
     "output_type": "stream",
     "text": [
      "Your selected dataframe has 122 columns.\n",
      "There are 67 columns that have missing values.\n"
     ]
    },
    {
     "data": {
      "text/html": [
       "<div>\n",
       "<style scoped>\n",
       "    .dataframe tbody tr th:only-of-type {\n",
       "        vertical-align: middle;\n",
       "    }\n",
       "\n",
       "    .dataframe tbody tr th {\n",
       "        vertical-align: top;\n",
       "    }\n",
       "\n",
       "    .dataframe thead th {\n",
       "        text-align: right;\n",
       "    }\n",
       "</style>\n",
       "<table border=\"1\" class=\"dataframe\">\n",
       "  <thead>\n",
       "    <tr style=\"text-align: right;\">\n",
       "      <th></th>\n",
       "      <th>Missing Values</th>\n",
       "      <th>% of Total</th>\n",
       "    </tr>\n",
       "  </thead>\n",
       "  <tbody>\n",
       "    <tr>\n",
       "      <th>COMMONAREA_MEDI</th>\n",
       "      <td>214865</td>\n",
       "      <td>69.9</td>\n",
       "    </tr>\n",
       "    <tr>\n",
       "      <th>COMMONAREA_AVG</th>\n",
       "      <td>214865</td>\n",
       "      <td>69.9</td>\n",
       "    </tr>\n",
       "    <tr>\n",
       "      <th>COMMONAREA_MODE</th>\n",
       "      <td>214865</td>\n",
       "      <td>69.9</td>\n",
       "    </tr>\n",
       "    <tr>\n",
       "      <th>NONLIVINGAPARTMENTS_MEDI</th>\n",
       "      <td>213514</td>\n",
       "      <td>69.4</td>\n",
       "    </tr>\n",
       "    <tr>\n",
       "      <th>NONLIVINGAPARTMENTS_MODE</th>\n",
       "      <td>213514</td>\n",
       "      <td>69.4</td>\n",
       "    </tr>\n",
       "    <tr>\n",
       "      <th>NONLIVINGAPARTMENTS_AVG</th>\n",
       "      <td>213514</td>\n",
       "      <td>69.4</td>\n",
       "    </tr>\n",
       "    <tr>\n",
       "      <th>FONDKAPREMONT_MODE</th>\n",
       "      <td>210295</td>\n",
       "      <td>68.4</td>\n",
       "    </tr>\n",
       "    <tr>\n",
       "      <th>LIVINGAPARTMENTS_MODE</th>\n",
       "      <td>210199</td>\n",
       "      <td>68.4</td>\n",
       "    </tr>\n",
       "    <tr>\n",
       "      <th>LIVINGAPARTMENTS_MEDI</th>\n",
       "      <td>210199</td>\n",
       "      <td>68.4</td>\n",
       "    </tr>\n",
       "    <tr>\n",
       "      <th>LIVINGAPARTMENTS_AVG</th>\n",
       "      <td>210199</td>\n",
       "      <td>68.4</td>\n",
       "    </tr>\n",
       "  </tbody>\n",
       "</table>\n",
       "</div>"
      ],
      "text/plain": [
       "                          Missing Values  % of Total\n",
       "COMMONAREA_MEDI                   214865        69.9\n",
       "COMMONAREA_AVG                    214865        69.9\n",
       "COMMONAREA_MODE                   214865        69.9\n",
       "NONLIVINGAPARTMENTS_MEDI          213514        69.4\n",
       "NONLIVINGAPARTMENTS_MODE          213514        69.4\n",
       "NONLIVINGAPARTMENTS_AVG           213514        69.4\n",
       "FONDKAPREMONT_MODE                210295        68.4\n",
       "LIVINGAPARTMENTS_MODE             210199        68.4\n",
       "LIVINGAPARTMENTS_MEDI             210199        68.4\n",
       "LIVINGAPARTMENTS_AVG              210199        68.4"
      ]
     },
     "execution_count": 8,
     "metadata": {},
     "output_type": "execute_result"
    }
   ],
   "source": [
    "# Missing values statistics\n",
    "missing_values = missing_values_table(train_df)\n",
    "missing_values.head(10)"
   ]
  },
  {
   "cell_type": "markdown",
   "id": "f3d57826-3f85-4b64-b2e6-986f68dc7b0b",
   "metadata": {},
   "source": [
    "Terlihat bahwa terdapat 67 kolom pada data training. Keberadaan missing value tersebut akan mempengaruhi model yang akan dibangun nantinya. Terdapat beberapa cara yang dapat digunakan untuk mengataasi hal tersebut seperti mengisi data yang kosong tersebut atau pun menghapus kolom yang memiliki persentasi missing value yang besar. Namun, karena saat ini belum diketahui apakah kolom-kolom tersebut memiliki peran dalam memprediksi target, untuk saat ini data tidak akan diubah terlebih dahulu."
   ]
  },
  {
   "cell_type": "markdown",
   "id": "73d1f877-fef8-4e6e-9f84-fe9d65c02b3a",
   "metadata": {},
   "source": [
    "## Tipe Kolom\n",
    "Berikut adalah tipe kolom pada dataset training"
   ]
  },
  {
   "cell_type": "code",
   "execution_count": 9,
   "id": "fa321a23-cd32-4ed9-b122-0efe1c032e4e",
   "metadata": {},
   "outputs": [
    {
     "data": {
      "text/plain": [
       "float64    65\n",
       "int64      41\n",
       "object     16\n",
       "Name: count, dtype: int64"
      ]
     },
     "execution_count": 9,
     "metadata": {},
     "output_type": "execute_result"
    }
   ],
   "source": [
    "train_df.dtypes.value_counts()"
   ]
  },
  {
   "cell_type": "code",
   "execution_count": 10,
   "id": "23059391-371c-479f-b8d3-fd1b7796d506",
   "metadata": {},
   "outputs": [
    {
     "data": {
      "text/plain": [
       "SK_ID_CURR              int64\n",
       "TARGET                  int64\n",
       "NAME_CONTRACT_TYPE     object\n",
       "CODE_GENDER            object\n",
       "FLAG_OWN_CAR           object\n",
       "FLAG_OWN_REALTY        object\n",
       "CNT_CHILDREN            int64\n",
       "AMT_INCOME_TOTAL      float64\n",
       "AMT_CREDIT            float64\n",
       "AMT_ANNUITY           float64\n",
       "dtype: object"
      ]
     },
     "execution_count": 10,
     "metadata": {},
     "output_type": "execute_result"
    }
   ],
   "source": [
    "train_df.dtypes.head(10)"
   ]
  },
  {
   "cell_type": "markdown",
   "id": "f6ed0e76-b5c8-467b-8977-327de4f4cb1a",
   "metadata": {},
   "source": [
    "Terdapat 65 kolom dengan tipe data `float64` dan 41 kolom dengantipe data `int64` yang keduanya merupakan data numerik. Lalu, terdapat juga 16 kolom dengan tipe `object` yang berisikan string dan merupakan data categorical seperti kode gender/jenis kelamin, nama kontrak, dsb.\n",
    "\n",
    "Berikut adalah jumlah dari kategori pada masing-masing kolom yang bersifat categorical."
   ]
  },
  {
   "cell_type": "code",
   "execution_count": 11,
   "id": "07036f0e-1e93-4eb7-961f-32417397a9b8",
   "metadata": {},
   "outputs": [
    {
     "data": {
      "text/plain": [
       "NAME_CONTRACT_TYPE             2\n",
       "CODE_GENDER                    3\n",
       "FLAG_OWN_CAR                   2\n",
       "FLAG_OWN_REALTY                2\n",
       "NAME_TYPE_SUITE                7\n",
       "NAME_INCOME_TYPE               8\n",
       "NAME_EDUCATION_TYPE            5\n",
       "NAME_FAMILY_STATUS             6\n",
       "NAME_HOUSING_TYPE              6\n",
       "OCCUPATION_TYPE               18\n",
       "WEEKDAY_APPR_PROCESS_START     7\n",
       "ORGANIZATION_TYPE             58\n",
       "FONDKAPREMONT_MODE             4\n",
       "HOUSETYPE_MODE                 3\n",
       "WALLSMATERIAL_MODE             7\n",
       "EMERGENCYSTATE_MODE            2\n",
       "dtype: int64"
      ]
     },
     "execution_count": 11,
     "metadata": {},
     "output_type": "execute_result"
    }
   ],
   "source": [
    "train_df.select_dtypes('object').apply(pd.Series.nunique, axis = 0)"
   ]
  },
  {
   "cell_type": "code",
   "execution_count": 12,
   "id": "6cfc7d26-3781-4d73-8f65-684e8031e8a0",
   "metadata": {},
   "outputs": [
    {
     "data": {
      "text/plain": [
       "NAME_CONTRACT_TYPE                        [Cash loans, Revolving loans]\n",
       "CODE_GENDER                                                 [M, F, XNA]\n",
       "FLAG_OWN_CAR                                                     [N, Y]\n",
       "FLAG_OWN_REALTY                                                  [Y, N]\n",
       "NAME_TYPE_SUITE       [Unaccompanied, Family, Spouse, partner, Child...\n",
       "dtype: object"
      ]
     },
     "execution_count": 12,
     "metadata": {},
     "output_type": "execute_result"
    }
   ],
   "source": [
    "train_df.select_dtypes('object').apply(lambda x: x.unique(), axis=0).head(5)"
   ]
  },
  {
   "cell_type": "markdown",
   "id": "cd2ca330-1ef1-4865-891b-0551c17e4159",
   "metadata": {},
   "source": [
    "## Encoding\n",
    "Salah satu model yang diminta untuk dibuat pada problem statement adalah **logistic regression**. Model tersebut tidak bisa menangani variabel yang bersifat categorical. Oleh karena itu, diperlukan proses encoding pada variabel-variabel tersebut sehingga dapat direpresentasikan dengan angka.\n",
    "\n",
    "Pada proses ini, data kategorikal yang hanya memiliki 2 unique values (atau kurang) akan melalui proses label encoding (menggunakan `LabelEncoder` dari Scikit-learn) sedangkan yang lainnya akan melalui proses one-hot encoding (menggunakan metode `get_dummies(df)` dari pandas)."
   ]
  },
  {
   "cell_type": "code",
   "execution_count": 13,
   "id": "753e0d14-9766-4e46-b762-28acc7fe4e16",
   "metadata": {},
   "outputs": [
    {
     "name": "stdout",
     "output_type": "stream",
     "text": [
      "3 columns were label encoded.\n"
     ]
    }
   ],
   "source": [
    "# instansiasi objek label encoder\n",
    "lab_en = preprocessing.LabelEncoder()\n",
    "lab_en_count = 0\n",
    "\n",
    "for col in train_df:\n",
    "    if train_df[col].dtype == 'object':\n",
    "        # If 2 or fewer unique categories\n",
    "        if len(list(train_df[col].unique())) <= 2:\n",
    "            # Train on the training data\n",
    "            lab_en.fit(train_df[col])\n",
    "            # Transform\n",
    "            train_df[col] = lab_en.transform(train_df[col])\n",
    "            test_df[col] = lab_en.transform(test_df[col])\n",
    "            \n",
    "            lab_en_count += 1\n",
    "            \n",
    "print('%d columns were label encoded.' % lab_en_count)"
   ]
  },
  {
   "cell_type": "code",
   "execution_count": 14,
   "id": "671968ec-e4c3-43a3-a531-00bc46ba764c",
   "metadata": {},
   "outputs": [
    {
     "name": "stdout",
     "output_type": "stream",
     "text": [
      "Training shape:  (307511, 243)\n",
      "Testing shape:  (48744, 239)\n"
     ]
    }
   ],
   "source": [
    "# one-hot encoding pada kolom categorical lainnya\n",
    "train_df = pd.get_dummies(train_df)\n",
    "test_df = pd.get_dummies(test_df)\n",
    "\n",
    "print('Training shape: ', train_df.shape)\n",
    "print('Testing shape: ', test_df.shape)"
   ]
  },
  {
   "cell_type": "markdown",
   "id": "35700b62-1263-40d6-bbce-df1081cf65db",
   "metadata": {},
   "source": [
    "Terlihat bahwa pada setelah proses di atas, ukuran data training dan data testing berubah. Hal tersebut diakibatkan oleh proses one-hot encoding yang menghasilkan kolom-kolom baru. Terdapat ketidaksesuaian antara kolom yang dihasilkan pada data training dan data testing dimana seharusnya data training hanya memiliki tambahan satu kolom saja (kolom TARGET). Perlu dilakukan alignment antara data testing dan data training."
   ]
  },
  {
   "cell_type": "code",
   "execution_count": 15,
   "id": "c68a4f97-e8a8-4b93-a495-33b557fb51fe",
   "metadata": {},
   "outputs": [
    {
     "name": "stdout",
     "output_type": "stream",
     "text": [
      "Training shape before:  (307511, 239)\n",
      "Testing shape before:  (48744, 239)\n",
      "Training shape after:  (307511, 240)\n",
      "Testing shape after:  (48744, 239)\n"
     ]
    }
   ],
   "source": [
    "# Simpan kolom TARGET dari data training terlebih dahulu\n",
    "train_labels = train_df['TARGET']\n",
    "\n",
    "# Align the training and testing data, keep only columns present in both dataframes\n",
    "train_df, test_df = train_df.align(test_df, join = 'inner', axis = 1)\n",
    "print('Training shape before: ', train_df.shape)\n",
    "print('Testing shape before: ', test_df.shape)\n",
    "\n",
    "# Kembalikan kolom target pada data training\n",
    "train_df['TARGET'] = train_labels\n",
    "\n",
    "print('Training shape after: ', train_df.shape)\n",
    "print('Testing shape after: ', test_df.shape)"
   ]
  },
  {
   "cell_type": "markdown",
   "id": "4561942a-1961-4f8c-81d1-d212075048d8",
   "metadata": {},
   "source": [
    "## Outlier\n",
    "Pertama, kita lihat nilai variance dari masing-masing kolom"
   ]
  },
  {
   "cell_type": "code",
   "execution_count": 16,
   "id": "c812acc0-430b-4d4b-a2a1-54bf50e5c292",
   "metadata": {},
   "outputs": [],
   "source": [
    "from tqdm import tqdm # feedback"
   ]
  },
  {
   "cell_type": "code",
   "execution_count": 17,
   "id": "96218ff6-f541-4f24-a9e7-6c0de3dae08c",
   "metadata": {},
   "outputs": [
    {
     "data": {
      "text/plain": [
       "REGION_RATING_CLIENT          2.591155e-01\n",
       "CNT_CHILDREN                  5.214593e-01\n",
       "AMT_REQ_CREDIT_BUREAU_QRT     6.305244e-01\n",
       "CNT_FAM_MEMBERS               8.293409e-01\n",
       "AMT_REQ_CREDIT_BUREAU_MON     8.390604e-01\n",
       "AMT_REQ_CREDIT_BUREAU_YEAR    3.494264e+00\n",
       "OBS_60_CNT_SOCIAL_CIRCLE      5.663464e+00\n",
       "OBS_30_CNT_SOCIAL_CIRCLE      5.764747e+00\n",
       "HOUR_APPR_PROCESS_START       1.066566e+01\n",
       "OWN_CAR_AGE                   1.426785e+02\n",
       "DAYS_LAST_PHONE_CHANGE        6.836123e+05\n",
       "DAYS_ID_PUBLISH               2.278441e+06\n",
       "DAYS_REGISTRATION             1.241073e+07\n",
       "DAYS_BIRTH                    1.904440e+07\n",
       "AMT_ANNUITY                   2.100684e+08\n",
       "SK_ID_CURR                    1.056582e+10\n",
       "DAYS_EMPLOYED                 1.995884e+10\n",
       "AMT_INCOME_TOTAL              5.622739e+10\n",
       "AMT_GOODS_PRICE               1.364907e+11\n",
       "AMT_CREDIT                    1.619988e+11\n",
       "dtype: float64"
      ]
     },
     "execution_count": 17,
     "metadata": {},
     "output_type": "execute_result"
    }
   ],
   "source": [
    "train_df.var().sort_values().tail(20)"
   ]
  },
  {
   "cell_type": "markdown",
   "id": "b462ef35-9191-4acb-bd5e-74093f055a7c",
   "metadata": {},
   "source": [
    "Terlihat bahwa terdapat beberapa kolom dengan nilai variance yang sangat tinggi. "
   ]
  },
  {
   "cell_type": "code",
   "execution_count": 19,
   "id": "b959db77-c498-4c75-98c8-e43970bfe991",
   "metadata": {},
   "outputs": [
    {
     "name": "stderr",
     "output_type": "stream",
     "text": [
      "  0%|                                                                                           | 0/10 [00:00<?, ?it/s]"
     ]
    },
    {
     "data": {
      "image/png": "[encoded data removed]",
      "text/plain": [
       "<Figure size 432x288 with 1 Axes>"
      ]
     },
     "metadata": {
      "needs_background": "light"
     },
     "output_type": "display_data"
    },
    {
     "name": "stderr",
     "output_type": "stream",
     "text": [
      " 10%|████████▎                                                                          | 1/10 [00:00<00:05,  1.55it/s]"
     ]
    },
    {
     "data": {
      "image/png": "[encoded data removed]",
      "text/plain": [
       "<Figure size 432x288 with 1 Axes>"
      ]
     },
     "metadata": {
      "needs_background": "light"
     },
     "output_type": "display_data"
    },
    {
     "name": "stderr",
     "output_type": "stream",
     "text": [
      " 20%|████████████████▌                                                                  | 2/10 [00:01<00:04,  1.83it/s]"
     ]
    },
    {
     "data": {
      "image/png": "[encoded data removed]",
      "text/plain": [
       "<Figure size 432x288 with 1 Axes>"
      ]
     },
     "metadata": {
      "needs_background": "light"
     },
     "output_type": "display_data"
    },
    {
     "name": "stderr",
     "output_type": "stream",
     "text": [
      " 30%|████████████████████████▉                                                          | 3/10 [00:01<00:03,  1.94it/s]"
     ]
    },
    {
     "data": {
      "image/png": "[encoded data removed]",
      "text/plain": [
       "<Figure size 432x288 with 1 Axes>"
      ]
     },
     "metadata": {
      "needs_background": "light"
     },
     "output_type": "display_data"
    },
    {
     "name": "stderr",
     "output_type": "stream",
     "text": [
      " 40%|█████████████████████████████████▏                                                 | 4/10 [00:02<00:02,  2.07it/s]"
     ]
    },
    {
     "data": {
      "image/png": "[encoded data removed]",
      "text/plain": [
       "<Figure size 432x288 with 1 Axes>"
      ]
     },
     "metadata": {
      "needs_background": "light"
     },
     "output_type": "display_data"
    },
    {
     "name": "stderr",
     "output_type": "stream",
     "text": [
      " 50%|█████████████████████████████████████████▌                                         | 5/10 [00:02<00:02,  2.03it/s]"
     ]
    },
    {
     "data": {
      "image/png": "[encoded data removed]",
      "text/plain": [
       "<Figure size 432x288 with 1 Axes>"
      ]
     },
     "metadata": {
      "needs_background": "light"
     },
     "output_type": "display_data"
    },
    {
     "name": "stderr",
     "output_type": "stream",
     "text": [
      " 60%|█████████████████████████████████████████████████▊                                 | 6/10 [00:03<00:02,  1.94it/s]"
     ]
    },
    {
     "data": {
      "image/png": "[encoded data removed]",
      "text/plain": [
       "<Figure size 432x288 with 1 Axes>"
      ]
     },
     "metadata": {
      "needs_background": "light"
     },
     "output_type": "display_data"
    },
    {
     "name": "stderr",
     "output_type": "stream",
     "text": [
      " 70%|██████████████████████████████████████████████████████████                         | 7/10 [00:03<00:01,  1.71it/s]"
     ]
    },
    {
     "data": {
      "image/png": "[encoded data removed]",
      "text/plain": [
       "<Figure size 432x288 with 1 Axes>"
      ]
     },
     "metadata": {
      "needs_background": "light"
     },
     "output_type": "display_data"
    },
    {
     "name": "stderr",
     "output_type": "stream",
     "text": [
      " 80%|██████████████████████████████████████████████████████████████████▍                | 8/10 [00:04<00:01,  1.83it/s]"
     ]
    },
    {
     "data": {
      "image/png": "[encoded data removed]",
      "text/plain": [
       "<Figure size 432x288 with 1 Axes>"
      ]
     },
     "metadata": {
      "needs_background": "light"
     },
     "output_type": "display_data"
    },
    {
     "name": "stderr",
     "output_type": "stream",
     "text": [
      " 90%|██████████████████████████████████████████████████████████████████████████▋        | 9/10 [00:04<00:00,  1.95it/s]"
     ]
    },
    {
     "data": {
      "image/png": "[encoded data removed]",
      "text/plain": [
       "<Figure size 432x288 with 1 Axes>"
      ]
     },
     "metadata": {
      "needs_background": "light"
     },
     "output_type": "display_data"
    },
    {
     "name": "stderr",
     "output_type": "stream",
     "text": [
      "100%|██████████████████████████████████████████████████████████████████████████████████| 10/10 [00:05<00:00,  1.93it/s]\n"
     ]
    }
   ],
   "source": [
    "# Filter numeric columns (int or float)\n",
    "numeric_columns = ['AMT_CREDIT', 'AMT_GOODS_PRICE', 'AMT_INCOME_TOTAL', 'DAYS_EMPLOYED', 'AMT_ANNUITY', 'DAYS_BIRTH', 'DAYS_REGISTRATION'\n",
    " , 'DAYS_ID_PUBLISH', 'DAYS_LAST_PHONE_CHANGE', 'OWN_CAR_AGE']\n",
    "\n",
    "# Plot pie charts for integer columns and distribution plots for float columns\n",
    "for col in tqdm(numeric_columns):\n",
    "    train_df[col].plot.hist(title = col)\n",
    "    plt.xlabel(col)\n",
    "    plt.show()"
   ]
  },
  {
   "cell_type": "markdown",
   "id": "6faac3d3-356d-444e-858d-1affc17698a6",
   "metadata": {},
   "source": [
    "Dapat dilihat bahwa data-data berikut memiliki nilai variance yang besar. Terlihat juga bahwa pada plot distribusi data terdapat ketimpangan. Selanjutnya, akan kita cek kolom DAYS_EMPLOYED karena persebarannya yang terlalu besar. Kolom lainnya yang berhubungan dengan mata uang untuk saat ini akan dibiarkan karena tidak diketahui jenis mata uang yang digunakan"
   ]
  },
  {
   "cell_type": "code",
   "execution_count": 44,
   "id": "f29362c6-f226-419d-b375-39789ab77c54",
   "metadata": {},
   "outputs": [
    {
     "data": {
      "text/plain": [
       "count    307511.000000\n",
       "mean      63815.045904\n",
       "std      141275.766519\n",
       "min      -17912.000000\n",
       "25%       -2760.000000\n",
       "50%       -1213.000000\n",
       "75%        -289.000000\n",
       "max      365243.000000\n",
       "Name: DAYS_EMPLOYED, dtype: float64"
      ]
     },
     "execution_count": 44,
     "metadata": {},
     "output_type": "execute_result"
    }
   ],
   "source": [
    "(train_df['DAYS_EMPLOYED']).describe()"
   ]
  },
  {
   "cell_type": "code",
   "execution_count": 45,
   "id": "37e06dda-18d5-4587-a6d2-96b53de29410",
   "metadata": {},
   "outputs": [
    {
     "data": {
      "image/png": "[encoded data removed]",
      "text/plain": [
       "<Figure size 432x288 with 1 Axes>"
      ]
     },
     "metadata": {
      "needs_background": "light"
     },
     "output_type": "display_data"
    }
   ],
   "source": [
    "# Plot a histogram of the 'your_column' data\n",
    "plt.hist(train_df['DAYS_EMPLOYED'], bins=50, color='blue', edgecolor='black')\n",
    "\n",
    "# Add labels and title\n",
    "plt.xlabel('Value')\n",
    "plt.ylabel('Frequency')\n",
    "plt.title('Histogram of your_column')\n",
    "\n",
    "# Show the plot\n",
    "plt.show()"
   ]
  },
  {
   "cell_type": "markdown",
   "id": "65b6e098-ca8e-4384-ad71-12b556fe7b1f",
   "metadata": {},
   "source": [
    "Terlihat bahwa persebaran data tersebut tidak masuk akal. Data atau kolom tersebut menunjukan jumlah total hari kerja dari seorang client dan nilai terbesarnya mencapai 365243 hari (setara kurang lebih 1000 tahun). Pada grafik di atas, terlihat bahwa kesalahan tersebut banyak terfokus pada satu nilai yaitu di 365243. Untuk memastikannya, akan dihitung data yang berada di antara nilai 50000 dan 350000."
   ]
  },
  {
   "cell_type": "code",
   "execution_count": 47,
   "id": "733cd9f2-f151-4cbc-ad6a-4b0d6f4be2e5",
   "metadata": {},
   "outputs": [
    {
     "data": {
      "text/plain": [
       "0"
      ]
     },
     "execution_count": 47,
     "metadata": {},
     "output_type": "execute_result"
    }
   ],
   "source": [
    "# Use boolean indexing to filter values within the specified range\n",
    "filtered_values = train_df['DAYS_EMPLOYED'][(train_df['DAYS_EMPLOYED'] >= 5000) & (train_df['DAYS_EMPLOYED'] <= 350000)]\n",
    "\n",
    "# Get the count of values within the specified range\n",
    "len(filtered_values)"
   ]
  },
  {
   "cell_type": "markdown",
   "id": "4828b8b4-f860-4459-a163-8ee040a1e06e",
   "metadata": {},
   "source": [
    "Terlihat bahwa tidak ada data DAYS_EMPLOYED dengan nilai antara 50000 hingga 350000. Maka, untuk menghilangkan outlier hanya perlu mengganti data dengan nilai 365243 ke NaN atau missing value."
   ]
  },
  {
   "cell_type": "code",
   "execution_count": 48,
   "id": "321d8ac6-a839-4918-86dd-02d39f324b5b",
   "metadata": {},
   "outputs": [
    {
     "data": {
      "text/plain": [
       "Text(0.5, 0, 'Days Employment')"
      ]
     },
     "execution_count": 48,
     "metadata": {},
     "output_type": "execute_result"
    },
    {
     "data": {
      "image/png": "[encoded data removed]",
      "text/plain": [
       "<Figure size 432x288 with 1 Axes>"
      ]
     },
     "metadata": {
      "needs_background": "light"
     },
     "output_type": "display_data"
    }
   ],
   "source": [
    "# Replace the anomalous values with nan\n",
    "train_df[\"DAYS_EMPLOYED\"].replace({365243: np.nan}, inplace = True)\n",
    "\n",
    "train_df[\"DAYS_EMPLOYED\"].plot.hist(title = 'Days Employment Histogram')\n",
    "plt.xlabel('Days Employment')"
   ]
  },
  {
   "cell_type": "markdown",
   "id": "55bcc3a4-3eb1-431c-b06f-3140d185dc52",
   "metadata": {},
   "source": [
    "Hal yang sama diperlukan juga untuk dilakukan pada dataset testing"
   ]
  },
  {
   "cell_type": "code",
   "execution_count": 50,
   "id": "9f50795b-c860-48b2-b40b-25a243d755d1",
   "metadata": {},
   "outputs": [
    {
     "data": {
      "text/plain": [
       "count     48744.000000\n",
       "mean      67485.366322\n",
       "std      144348.507136\n",
       "min      -17463.000000\n",
       "25%       -2910.000000\n",
       "50%       -1293.000000\n",
       "75%        -296.000000\n",
       "max      365243.000000\n",
       "Name: DAYS_EMPLOYED, dtype: float64"
      ]
     },
     "execution_count": 50,
     "metadata": {},
     "output_type": "execute_result"
    }
   ],
   "source": [
    "(test_df['DAYS_EMPLOYED']).describe()"
   ]
  },
  {
   "cell_type": "code",
   "execution_count": 51,
   "id": "8463ea5e-deab-43a5-bcfc-9e0b1d7be9aa",
   "metadata": {},
   "outputs": [],
   "source": [
    "# Replace the anomalous values with nan\n",
    "test_df[\"DAYS_EMPLOYED\"].replace({365243: np.nan}, inplace = True)"
   ]
  },
  {
   "cell_type": "markdown",
   "id": "02ded1ff-3e48-422c-812e-0f723b3b68f4",
   "metadata": {},
   "source": [
    "## Correlation"
   ]
  },
  {
   "cell_type": "code",
   "execution_count": 52,
   "id": "feb64e1c-04b9-44a7-932f-4fc462ab7722",
   "metadata": {},
   "outputs": [
    {
     "name": "stdout",
     "output_type": "stream",
     "text": [
      "Most Positive Correlations:\n",
      " DEF_60_CNT_SOCIAL_CIRCLE                             0.031276\n",
      "DEF_30_CNT_SOCIAL_CIRCLE                             0.032248\n",
      "LIVE_CITY_NOT_WORK_CITY                              0.032518\n",
      "OWN_CAR_AGE                                          0.037612\n",
      "DAYS_REGISTRATION                                    0.041975\n",
      "OCCUPATION_TYPE_Laborers                             0.043019\n",
      "FLAG_DOCUMENT_3                                      0.044346\n",
      "REG_CITY_NOT_LIVE_CITY                               0.044395\n",
      "FLAG_EMP_PHONE                                       0.045982\n",
      "NAME_EDUCATION_TYPE_Secondary / secondary special    0.049824\n",
      "REG_CITY_NOT_WORK_CITY                               0.050994\n",
      "DAYS_ID_PUBLISH                                      0.051457\n",
      "CODE_GENDER_M                                        0.054713\n",
      "DAYS_LAST_PHONE_CHANGE                               0.055218\n",
      "NAME_INCOME_TYPE_Working                             0.057481\n",
      "REGION_RATING_CLIENT                                 0.058899\n",
      "REGION_RATING_CLIENT_W_CITY                          0.060893\n",
      "DAYS_EMPLOYED                                        0.074958\n",
      "DAYS_BIRTH                                           0.078239\n",
      "TARGET                                               1.000000\n",
      "Name: TARGET, dtype: float64\n",
      "\n",
      "Most Negative Correlations:\n",
      " EXT_SOURCE_3                           -0.178919\n",
      "EXT_SOURCE_2                           -0.160472\n",
      "EXT_SOURCE_1                           -0.155317\n",
      "NAME_EDUCATION_TYPE_Higher education   -0.056593\n",
      "CODE_GENDER_F                          -0.054704\n",
      "NAME_INCOME_TYPE_Pensioner             -0.046209\n",
      "ORGANIZATION_TYPE_XNA                  -0.045987\n",
      "FLOORSMAX_AVG                          -0.044003\n",
      "FLOORSMAX_MEDI                         -0.043768\n",
      "FLOORSMAX_MODE                         -0.043226\n",
      "EMERGENCYSTATE_MODE_No                 -0.042201\n",
      "HOUSETYPE_MODE_block of flats          -0.040594\n",
      "AMT_GOODS_PRICE                        -0.039645\n",
      "REGION_POPULATION_RELATIVE             -0.037227\n",
      "ELEVATORS_AVG                          -0.034199\n",
      "ELEVATORS_MEDI                         -0.033863\n",
      "FLOORSMIN_AVG                          -0.033614\n",
      "FLOORSMIN_MEDI                         -0.033394\n",
      "WALLSMATERIAL_MODE_Panel               -0.033119\n",
      "LIVINGAREA_AVG                         -0.032997\n",
      "Name: TARGET, dtype: float64\n"
     ]
    }
   ],
   "source": [
    "# Find correlations with the target and sort\n",
    "correlations = train_df.corr()['TARGET'].sort_values()\n",
    "\n",
    "# Display correlations\n",
    "print('Most Positive Correlations:\\n', correlations.tail(20))\n",
    "print('\\nMost Negative Correlations:\\n', correlations.head(20))"
   ]
  },
  {
   "cell_type": "code",
   "execution_count": 53,
   "id": "6bca5135-b6cb-47f9-af99-0699e1b8912c",
   "metadata": {},
   "outputs": [
    {
     "name": "stdout",
     "output_type": "stream",
     "text": [
      "Columns with highest correlations:\n",
      " TARGET                                               1.000000\n",
      "EXT_SOURCE_3                                         0.178919\n",
      "EXT_SOURCE_2                                         0.160472\n",
      "EXT_SOURCE_1                                         0.155317\n",
      "DAYS_BIRTH                                           0.078239\n",
      "DAYS_EMPLOYED                                        0.074958\n",
      "REGION_RATING_CLIENT_W_CITY                          0.060893\n",
      "REGION_RATING_CLIENT                                 0.058899\n",
      "NAME_INCOME_TYPE_Working                             0.057481\n",
      "NAME_EDUCATION_TYPE_Higher education                 0.056593\n",
      "DAYS_LAST_PHONE_CHANGE                               0.055218\n",
      "CODE_GENDER_M                                        0.054713\n",
      "CODE_GENDER_F                                        0.054704\n",
      "DAYS_ID_PUBLISH                                      0.051457\n",
      "REG_CITY_NOT_WORK_CITY                               0.050994\n",
      "NAME_EDUCATION_TYPE_Secondary / secondary special    0.049824\n",
      "NAME_INCOME_TYPE_Pensioner                           0.046209\n",
      "ORGANIZATION_TYPE_XNA                                0.045987\n",
      "FLAG_EMP_PHONE                                       0.045982\n",
      "REG_CITY_NOT_LIVE_CITY                               0.044395\n",
      "Name: TARGET, dtype: float64\n"
     ]
    }
   ],
   "source": [
    "print('Columns with highest correlations:\\n', abs(correlations).sort_values(ascending=False).head(20))"
   ]
  },
  {
   "cell_type": "markdown",
   "id": "02b78f3c-083f-425c-90c0-4692b7c325cb",
   "metadata": {},
   "source": [
    "**Perlu diperhatikan** bahwa beberapa kolom memiliki nilai negatif seperti kolom DAYS_BIRTH. Hal tersebut menandakan bahwa korelasi sebenarnya dari DAYS_BIRTH terbalik atau negatif. Terlihat bahwa secara magnitude, dapat diurutkan kolom dengan korelasi terbesar dengan target yaitu kolom:\n",
    "\n",
    "1. EXT_SOURCE_3\n",
    "2. EXT_SOURCE_2\n",
    "3. EXT_SOURCE_1\n",
    "4. DAYS_BIRTH\n",
    "5. DAYS_EMPLOYED\n",
    "6. REGION_RATING_CLIENT_W_CITY\n",
    "7. REGION_RATING_CLIENT\n",
    "8.  NAME_INCOME_TYPE\n",
    "9.   NAME_EDUCATION_TYPE\n",
    "\n",
    "Sementara akan digunakan fitur tersebut saja untuk pengembangan modelnya. Beberapa point penting:\n",
    "1. Seseorang dengan EXT_SOURCE (diasumsikan external source income atau pendapatan ekternal) memiliki kecenderungan yang cukup besar untuk membayar\n",
    "2. Seseorang yang telah pensiun cenderung untuk membayar, begitu juga dengan usia yang lebih tua\n",
    "3. Selain itu terdapat point menarik lainnya dimana client wanita lebih cenderung untuk membayar dibandingkan dengan client pria\n",
    "4. Pendidikan cukup memiliki korelasi yang besar dimana seseorang dengan status  pendidikan Higher education cenderung untuk membayar sedangkan seseorang dengan status pendidikan Secondary / secondary special cenderung untuk sebaliknya\n",
    "5. "
   ]
  },
  {
   "cell_type": "code",
   "execution_count": 73,
   "id": "f3fe2a29-8b40-48e7-a646-90aae4996afe",
   "metadata": {},
   "outputs": [],
   "source": [
    "def draw_categorical_pie(cols):\n",
    "    # Identify one-hot-encoded columns that start with 'Category'\n",
    "    one_hot_columns = [col for col in train_df.columns if col.startswith(cols)]\n",
    "\n",
    "    # Create a new DataFrame containing only the one-hot-encoded columns\n",
    "    one_hot_df = train_df[one_hot_columns]\n",
    "\n",
    "    # Calculate the sum of each one-hot-encoded column\n",
    "    category_counts = one_hot_df.sum()\n",
    "\n",
    "    # Plot a pie chart\n",
    "    plt.figure(figsize=(8, 8))\n",
    "    plt.pie(category_counts, labels=None, autopct='%1.1f%%', startangle=90)\n",
    "    plt.title('Distribution of One-Hot-Encoded Categories')\n",
    "    \n",
    "    # Display labels at the bottom using legend\n",
    "    plt.legend(category_counts.index, title=\"Categories\", loc=\"lower center\", bbox_to_anchor=(0.5, -0.1), fancybox=True, shadow=True, ncol=len(category_counts))\n",
    "    \n",
    "    plt.show()"
   ]
  },
  {
   "cell_type": "markdown",
   "id": "e983b6bb-17e9-4027-a4c3-b60392d2806b",
   "metadata": {},
   "source": [
    "Selanjutnya akan dilakukan pengecekan ulang terhadap kolom-kolom tersebut untuk memastikan bahwa tidak ada outlier atau keanehan pada data tersebut"
   ]
  },
  {
   "cell_type": "code",
   "execution_count": 78,
   "id": "de5df021-15c7-40f6-8b6a-a2226a694665",
   "metadata": {},
   "outputs": [
    {
     "name": "stderr",
     "output_type": "stream",
     "text": [
      "  0%|                                                                                            | 0/9 [00:00<?, ?it/s]"
     ]
    },
    {
     "data": {
      "image/png": "[encoded data removed]",
      "text/plain": [
       "<Figure size 432x288 with 1 Axes>"
      ]
     },
     "metadata": {
      "needs_background": "light"
     },
     "output_type": "display_data"
    },
    {
     "name": "stderr",
     "output_type": "stream",
     "text": [
      " 11%|█████████▎                                                                          | 1/9 [00:00<00:03,  2.15it/s]"
     ]
    },
    {
     "data": {
      "image/png": "[encoded data removed]",
      "text/plain": [
       "<Figure size 432x288 with 1 Axes>"
      ]
     },
     "metadata": {
      "needs_background": "light"
     },
     "output_type": "display_data"
    },
    {
     "name": "stderr",
     "output_type": "stream",
     "text": [
      " 22%|██████████████████▋                                                                 | 2/9 [00:00<00:03,  2.24it/s]"
     ]
    },
    {
     "data": {
      "image/png": "[encoded data removed]",
      "text/plain": [
       "<Figure size 432x288 with 1 Axes>"
      ]
     },
     "metadata": {
      "needs_background": "light"
     },
     "output_type": "display_data"
    },
    {
     "name": "stderr",
     "output_type": "stream",
     "text": [
      " 33%|████████████████████████████                                                        | 3/9 [00:01<00:02,  2.50it/s]"
     ]
    },
    {
     "data": {
      "image/png": "[encoded data removed]",
      "text/plain": [
       "<Figure size 432x288 with 1 Axes>"
      ]
     },
     "metadata": {
      "needs_background": "light"
     },
     "output_type": "display_data"
    },
    {
     "name": "stderr",
     "output_type": "stream",
     "text": [
      " 44%|█████████████████████████████████████▎                                              | 4/9 [00:01<00:02,  2.20it/s]"
     ]
    },
    {
     "data": {
      "image/png": "[encoded data removed]",
      "text/plain": [
       "<Figure size 432x288 with 1 Axes>"
      ]
     },
     "metadata": {
      "needs_background": "light"
     },
     "output_type": "display_data"
    },
    {
     "name": "stderr",
     "output_type": "stream",
     "text": [
      " 56%|██████████████████████████████████████████████▋                                     | 5/9 [00:02<00:01,  2.23it/s]"
     ]
    },
    {
     "data": {
      "image/png": "[encoded data removed]",
      "text/plain": [
       "<Figure size 432x288 with 1 Axes>"
      ]
     },
     "metadata": {
      "needs_background": "light"
     },
     "output_type": "display_data"
    },
    {
     "name": "stderr",
     "output_type": "stream",
     "text": [
      " 67%|████████████████████████████████████████████████████████                            | 6/9 [00:02<00:01,  2.40it/s]"
     ]
    },
    {
     "data": {
      "image/png": "[encoded data removed]",
      "text/plain": [
       "<Figure size 432x288 with 1 Axes>"
      ]
     },
     "metadata": {
      "needs_background": "light"
     },
     "output_type": "display_data"
    },
    {
     "name": "stderr",
     "output_type": "stream",
     "text": [
      " 78%|█████████████████████████████████████████████████████████████████▎                  | 7/9 [00:02<00:00,  2.39it/s]"
     ]
    },
    {
     "data": {
      "image/png": "[encoded data removed]",
      "text/plain": [
       "<Figure size 576x576 with 1 Axes>"
      ]
     },
     "metadata": {},
     "output_type": "display_data"
    },
    {
     "name": "stderr",
     "output_type": "stream",
     "text": [
      " 89%|██████████████████████████████████████████████████████████████████████████▋         | 8/9 [00:03<00:00,  2.35it/s]"
     ]
    },
    {
     "data": {
      "image/png": "[encoded data removed]",
      "text/plain": [
       "<Figure size 576x576 with 1 Axes>"
      ]
     },
     "metadata": {},
     "output_type": "display_data"
    },
    {
     "name": "stderr",
     "output_type": "stream",
     "text": [
      "100%|████████████████████████████████████████████████████████████████████████████████████| 9/9 [00:03<00:00,  2.33it/s]\n"
     ]
    }
   ],
   "source": [
    "# Filter\n",
    "columns = ['EXT_SOURCE_3',\n",
    "'EXT_SOURCE_2',\n",
    "'EXT_SOURCE_1',\n",
    "'DAYS_BIRTH',\n",
    "'DAYS_EMPLOYED',\n",
    "'REGION_RATING_CLIENT_W_CITY',\n",
    "'REGION_RATING_CLIENT',\n",
    "'NAME_INCOME_TYPE',\n",
    "'NAME_EDUCATION_TYPE']\n",
    "\n",
    "for cols in tqdm(columns):\n",
    "    if cols == 'NAME_INCOME_TYPE':\n",
    "        draw_categorical_pie(cols)\n",
    "    elif cols == 'NAME_EDUCATION_TYPE':\n",
    "        draw_categorical_pie(cols)\n",
    "    else:\n",
    "        train_df[cols].plot.hist(title = cols)\n",
    "        plt.xlabel(cols)\n",
    "        plt.show()"
   ]
  },
  {
   "cell_type": "markdown",
   "id": "60b557b7-e901-416b-8f9d-eb68445e2602",
   "metadata": {},
   "source": [
    "Distribusi data terlihat normal. Beberapa point penting seperti:\n",
    "1. Urutan jumlah client berdasarkan income type: Working, commercial_associate, Pensioner, state_servant, diikuti yang lainnya\n",
    "3. Urutan jumlah client berdasarkan status pendidikan: Secondary/secondary special, Higher education, Incomplete higher, Lower secondary, dan terakhir Academic degree"
   ]
  },
  {
   "cell_type": "code",
   "execution_count": 175,
   "id": "efb2ff95-ffd2-4e85-9b74-9f814f4d4e51",
   "metadata": {},
   "outputs": [],
   "source": [
    "def percent_defaulted(cols_prefix):\n",
    "    # Filter columns that start with the specified prefix\n",
    "    columns = [col for col in train_df.columns if col.startswith(cols_prefix)]\n",
    "\n",
    "    category_counts = train_df.groupby('TARGET')[columns].sum()\n",
    "    category_1_counts = category_counts.loc[1]\n",
    "    category_0_counts = category_counts.loc[0]\n",
    "\n",
    "    percentage_df = (100 * category_1_counts/(category_0_counts+category_1_counts)).sort_values(ascending=False)\n",
    "    print(f'Percentage of defaulted client per {cols_prefix}:')\n",
    "    print(percentage_df)\n",
    "    print(f'Percentage of non-defaulted client per {cols_prefix}:')\n",
    "    print(100-percentage_df)"
   ]
  },
  {
   "cell_type": "code",
   "execution_count": 176,
   "id": "0038b7c3-44fe-4030-8109-9082dc561eb6",
   "metadata": {},
   "outputs": [
    {
     "name": "stdout",
     "output_type": "stream",
     "text": [
      "Percentage of defaulted client per NAME_INCOME_TYPE:\n",
      "NAME_INCOME_TYPE_Unemployed              36.363636\n",
      "NAME_INCOME_TYPE_Working                  9.588472\n",
      "NAME_INCOME_TYPE_Commercial associate     7.484257\n",
      "NAME_INCOME_TYPE_State servant            5.754965\n",
      "NAME_INCOME_TYPE_Pensioner                5.386366\n",
      "NAME_INCOME_TYPE_Businessman              0.000000\n",
      "NAME_INCOME_TYPE_Student                  0.000000\n",
      "dtype: float64\n",
      "Percentage of non-defaulted client per NAME_INCOME_TYPE:\n",
      "NAME_INCOME_TYPE_Unemployed               63.636364\n",
      "NAME_INCOME_TYPE_Working                  90.411528\n",
      "NAME_INCOME_TYPE_Commercial associate     92.515743\n",
      "NAME_INCOME_TYPE_State servant            94.245035\n",
      "NAME_INCOME_TYPE_Pensioner                94.613634\n",
      "NAME_INCOME_TYPE_Businessman             100.000000\n",
      "NAME_INCOME_TYPE_Student                 100.000000\n",
      "dtype: float64\n"
     ]
    }
   ],
   "source": [
    "percent_defaulted('NAME_INCOME_TYPE')"
   ]
  },
  {
   "cell_type": "markdown",
   "id": "2ad3b9c4-dfe2-436d-8a37-6a93d465a79b",
   "metadata": {},
   "source": [
    "Poin menarik:\n",
    "1. Seluruh bussinessman dan seluruh student membayar, tapi jumlah client tersebut sedikit **belum pasti jika client jenis ini lebih ramai semuanya akan membayar juga, tetapi ada baiknya dilakukan campaign dan juga taktik khusus seperti pinjaman pendidikan dengan metode bayar yang berbeda atau pinjaman bisnis dengan metode pembayaran berupa royalti  atau semacamnya (gaya sharktank)** \n",
    "2. Client unemployed paling sulit membayar, jumlah client pun sedikit **Perlu ada taktik seperti planning supaya client jenis ini lebih sering membayar**\n",
    "3. Pensioner cenderung untuk membayar dan jumlah client tersebut juga banyak (18% dari total), **ada baiknya dilakukan campaign lebih terhadap tipe ini supaya lebih ramai pensiunan yang menggunakan jasa home credit**\n",
    "4. Sisanya biasa saja dan hanya perlu ditingkatkan untuk state servant dan commercial associate, sementara working class client bisa digunakan taktik yang lebih umum"
   ]
  },
  {
   "cell_type": "code",
   "execution_count": 177,
   "id": "a624737d-0089-49e1-88d2-a878561a5bb4",
   "metadata": {},
   "outputs": [
    {
     "name": "stdout",
     "output_type": "stream",
     "text": [
      "Percentage of defaulted client per NAME_EDUCATION_TYPE:\n",
      "NAME_EDUCATION_TYPE_Lower secondary                  10.927673\n",
      "NAME_EDUCATION_TYPE_Secondary / secondary special     8.939929\n",
      "NAME_EDUCATION_TYPE_Incomplete higher                 8.484966\n",
      "NAME_EDUCATION_TYPE_Higher education                  5.355115\n",
      "NAME_EDUCATION_TYPE_Academic degree                   1.829268\n",
      "dtype: float64\n",
      "Percentage of non-defaulted client per NAME_EDUCATION_TYPE:\n",
      "NAME_EDUCATION_TYPE_Lower secondary                  89.072327\n",
      "NAME_EDUCATION_TYPE_Secondary / secondary special    91.060071\n",
      "NAME_EDUCATION_TYPE_Incomplete higher                91.515034\n",
      "NAME_EDUCATION_TYPE_Higher education                 94.644885\n",
      "NAME_EDUCATION_TYPE_Academic degree                  98.170732\n",
      "dtype: float64\n"
     ]
    }
   ],
   "source": [
    "percent_defaulted('NAME_EDUCATION_TYPE')"
   ]
  },
  {
   "cell_type": "markdown",
   "id": "0eb2d44d-975c-496c-b898-aca080144af7",
   "metadata": {},
   "source": [
    "Poin menarik:\n",
    "1. client dengan status pendidikan lower secondary (SMP/Sederajat) cenderung sulit untuk membayar dan jumlahnya pun sedikit, **lebih baik dihindari dan perlu plan yang lebih cocok**\n",
    "2. Semakin tinggi derajat pendidikan client semakin sering membayar, yang cukup menarik adalah client dengan higher education berjumlah cukup banyak (terbanyak kedua) dan lebih sering membayar (posisi kedua terakhir pada list kesulitan membayar), sehingga **perlu ada upaya lebih untuk menarik pelanggan dengan status pendidikan higher education**"
   ]
  },
  {
   "cell_type": "markdown",
   "id": "04e6dfa1-ffb9-4c57-ab21-6b0f84488eb5",
   "metadata": {},
   "source": [
    "## Feature Engineering\n",
    "Terdapat beberapa poin penting yang diperlukan untuk menentukan bahwa seseorang akan mengalami kesulitan membayar atau tidak dalam ranah peminjaman. Beberapa contohnya adalah:\n",
    "1. "
   ]
  },
  {
   "cell_type": "code",
   "execution_count": null,
   "id": "516f3f6c-b155-4f3a-a261-a79235e30d4c",
   "metadata": {},
   "outputs": [],
   "source": []
  }
 ],
 "metadata": {
  "kernelspec": {
   "display_name": "Python 3 (ipykernel)",
   "language": "python",
   "name": "python3"
  },
  "language_info": {
   "codemirror_mode": {
    "name": "ipython",
    "version": 3
   },
   "file_extension": ".py",
   "mimetype": "text/x-python",
   "name": "python",
   "nbconvert_exporter": "python",
   "pygments_lexer": "ipython3",
   "version": "3.9.8"
  }
 },
 "nbformat": 4,
 "nbformat_minor": 5
}
